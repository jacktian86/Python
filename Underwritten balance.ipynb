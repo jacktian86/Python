{
 "metadata": {
  "name": ""
 },
 "nbformat": 3,
 "nbformat_minor": 0,
 "worksheets": [
  {
   "cells": [
    {
     "cell_type": "code",
     "collapsed": false,
     "input": [
      "# from pandas import DataFrame, date_range, read_csv, read_excel, concat, isnull\n",
      "# import pandas as pd\n",
      "# import matplotlib.pyplot as plt\n",
      "# import datetime\n",
      "# import numpy.random as np\n",
      "# import ols\n",
      "# import statsmodels.api as sm\n",
      "# from datetime import datetime, timedelta\n",
      "# %matplotlib inline"
     ],
     "language": "python",
     "metadata": {},
     "outputs": [],
     "prompt_number": 2
    },
    {
     "cell_type": "code",
     "collapsed": false,
     "input": [
      "# df_regress = read_excel('Calcs_v2.xlsx', 'Sheet1')\n",
      "# df = read_excel('ZScore_All.xlsx', 'Sheet1')\n",
      "\n",
      "# df2=df[['CIF', 'Net Sales']]\n",
      "# df2['CIF']=df2['CIF'].apply(str)\n",
      "# df2['CIF']= [item.strip('0.') for item in df2['CIF']]\n",
      "# df2 = df2.groupby(['CIF']).sum()"
     ],
     "language": "python",
     "metadata": {},
     "outputs": []
    },
    {
     "cell_type": "code",
     "collapsed": false,
     "input": [
      "# df_regress['CARE Number'] = df_regress['CARE Number'].apply(str)\n",
      "# df_regress['CARE Number']= [item.strip('0.') for item in df_regress['CARE Number']] \n",
      "\n",
      "# df_regress_new = df_regress.ix[:,['Rolling Week', 'Customer Number', 'Customer Name - DBA', 'Industry', 'CARE Number','Weekly Beg Balance','Credit Limit']]\n",
      "# df_regress_new = df_regress_new.groupby(['CARE Number', 'Rolling Week', 'Customer Number', 'Customer Name - DBA', 'Industry']).mean()\n",
      "# df_regress_week = df_regress_new.reset_index().groupby(['CARE Number', 'Rolling Week']).sum()\n",
      "\n",
      "# df_regress_max = df_regress_week.reset_index().groupby(['CARE Number']).max()\n",
      "# df_regress_max = df_regress_max.ix[:,['Weekly Beg Balance','Credit Limit']]\n",
      "# df_regress_max = df_regress_max.rename(columns={\"Weekly Beg Balance\": \"Max Balance\", 'Credit Limit':'Max Credit'})\n",
      "# df_regress_week['CR Ratio'] = df_regress_week['Weekly Beg Balance']/df_regress_week['Credit Limit']\n",
      "\n",
      "# df_regress_vol = df_regress_week.reset_index().groupby(['CARE Number']).std()\n",
      "# df_regress_vol = df_regress_vol.ix[:,['CR Ratio']]\n",
      "# df_regress_vol = df_regress_vol.rename(columns={'CR Ratio':'CR Vol'})\n",
      "\n",
      "# df_regress_mean = df_regress_new.reset_index().groupby(['CARE Number', 'Customer Number', 'Customer Name - DBA', 'Industry']).mean()\n",
      "# df_regress_mean = df_regress_mean.reset_index().groupby(['CARE Number']).sum()\n",
      "# df_regress_mean = df_regress_mean.ix[:,['Weekly Beg Balance','Credit Limit']]"
     ],
     "language": "python",
     "metadata": {},
     "outputs": [],
     "prompt_number": 161
    },
    {
     "cell_type": "code",
     "collapsed": false,
     "input": [
      "# df_regress_combined = df_regress_max.join(df_regress_mean, how = 'inner')\n",
      "# df_regress_combined = df_regress_combined.join(df_regress_vol, how = 'inner')\n",
      "# df_regress_combined['Max Ratio'] = df_regress_combined['Max Balance']/df_regress_combined['Credit Limit']\n",
      "# df_combined = df2.join(df_regress_combined, how = 'inner')\n",
      "\n",
      "# df_combined_300=df_combined[df_combined['Weekly Beg Balance']<300000]\n",
      "# df_combined_500=df_combined[(df_combined['Weekly Beg Balance']>=300000)&(df_combined['Weekly Beg Balance']<500000)]\n",
      "# df_combined_1000=df_combined[(df_combined['Weekly Beg Balance']>=500000)&(df_combined['Weekly Beg Balance']<1000000)]\n",
      "# df_combined_1000up=df_combined[df_combined['Weekly Beg Balance']>=1000000]"
     ],
     "language": "python",
     "metadata": {},
     "outputs": [],
     "prompt_number": 180
    },
    {
     "cell_type": "code",
     "collapsed": false,
     "input": [
      "# def DealerCount(DF_count, level):\n",
      "#     old_Count = 0\n",
      "#     for item in level:\n",
      "#         new_Count = len(DF_count[DF_count['Max Ratio']>item])-old_Count  \n",
      "        \n",
      "#         yield new_Count\n",
      "        \n",
      "#         old_Count = len(DF_count[DF_count['Max Ratio']>item])\n",
      "        \n",
      "        \n",
      "# def CountFunct(DF_count, Levels):   \n",
      "#     Count_Output = []\n",
      "    \n",
      "#     for item in DealerCount(DF_count, Levels):\n",
      "#         Count_Output.append(item)\n",
      "        \n",
      "#     return Count_Output    "
     ],
     "language": "python",
     "metadata": {},
     "outputs": [],
     "prompt_number": 185
    },
    {
     "cell_type": "code",
     "collapsed": false,
     "input": [
      "# C300 = CountFunct(df_combined_300, [1.2,1.0,.9,.7])\n",
      "# C500 = CountFunct(df_combined_500, [1.2,1.0,.9,.7])\n",
      "# C1000 = CountFunct(df_combined_1000, [1.2,1.0,.9,.7])\n",
      "# C1000up = CountFunct(df_combined_1000up, [1.2,1.0,.9,.7])"
     ],
     "language": "python",
     "metadata": {},
     "outputs": [],
     "prompt_number": 187
    },
    {
     "cell_type": "code",
     "collapsed": false,
     "input": [],
     "language": "python",
     "metadata": {},
     "outputs": []
    }
   ],
   "metadata": {}
  }
 ]
}